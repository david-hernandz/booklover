{
 "cells": [
  {
   "cell_type": "markdown",
   "id": "bbea800c-241d-42b4-a744-ecaffe13959e",
   "metadata": {},
   "source": [
    "# Metadata\n",
    "\n",
    "```yaml\n",
    "Course:  DS 5100\n",
    "Module:  09 Python Packages\n",
    "Topic:   HW Package Booklover\n",
    "Author:  R.C. Alvarado (adapted)\n",
    "Date:    7 July 2023 (revised)\n",
    "```"
   ]
  },
  {
   "cell_type": "markdown",
   "id": "36f46fdd-2405-4dc8-9ea1-33f395e56cc0",
   "metadata": {},
   "source": [
    "# Student Info\n",
    "\n",
    "* Name: David Hernandez\n",
    "* Net UD: fxj5fe\n",
    "* URL of this file in GitHub: https://github.com/david-hernandz/booklover"
   ]
  },
  {
   "cell_type": "markdown",
   "id": "375875a8-1503-46eb-8ea1-7e5bf39b5c41",
   "metadata": {},
   "source": [
    "# Instructions\n",
    "\n",
    "In your **private course repo on Rivanna**, use this Jupyter notebook and the data file described to write code that performs the tasks below. \n",
    "\n",
    "Save your notebook in the `M09` directory.\n",
    "\n",
    "Remember to add and commit these files to your repo. \n",
    "\n",
    "Then push your commits to your repo on GitHib.\n",
    "\n",
    "Be sure to fill out the **Student Info** block above.\n",
    "\n",
    "To submit your homework, save your results as a PDF and upload it to GradeScope. More information about how to create the PDF for this assignment are included at the end of this document.\n",
    "\n",
    "**TOTAL POINTS: 8**"
   ]
  },
  {
   "cell_type": "markdown",
   "id": "1baf08dc-35fe-44f1-bc26-7e1130ee993e",
   "metadata": {},
   "source": [
    "# Overview\n",
    "\n",
    "Follow the following recipe we used in class to package the code you wrote for `HW08` -- `booklover.py` and `booklover_test.py`.\n",
    "\n",
    "* Create a new git repo for your package.\n",
    "* Create and edit the required files and directories for your package and move the booklover modules there.\n",
    "* Stage, commit, and push all the files you've created.\n",
    "* Install your package with pip.\n",
    "* Outside of your package dir, write a script to test your method.\n",
    "\n",
    "Put this notebook in your repo. This will allow you to execute bash commands and capture the outpunt directly in the notebook.\n",
    "\n",
    "**TOTAL: 8 POINTS**"
   ]
  },
  {
   "cell_type": "markdown",
   "id": "6e39ba79-49ee-41e8-9e49-23d9d6bac2e0",
   "metadata": {
    "tags": []
   },
   "source": [
    "# Tasks"
   ]
  },
  {
   "cell_type": "markdown",
   "id": "fb11de14",
   "metadata": {},
   "source": [
    "## Task 1\n",
    "\n",
    "(5 points)\n",
    "\n",
    "Show the directory structure of your repo by running this command from the root of your repo:"
   ]
  },
  {
   "cell_type": "code",
   "execution_count": 14,
   "id": "7e6c6607",
   "metadata": {
    "tags": []
   },
   "outputs": [
    {
     "name": "stdout",
     "output_type": "stream",
     "text": [
      "/home/fxj5fe/Documents/MSDS/DS5100/booklover:\n",
      "total 20\n",
      "-rw-r--r-- 1 fxj5fe users 1246 Mar 29 19:10 booklover.py\n",
      "-rw------- 1 fxj5fe users   59 Mar 29 19:11 __init__.py\n",
      "-rw------- 1 fxj5fe users 1072 Mar 29 22:31 LICENSE\n",
      "drwx--S--- 2 fxj5fe users 1024 Mar 29 22:33 __pycache__\n",
      "-rw------- 1 fxj5fe users   11 Mar 29 22:31 README.md\n",
      "\n",
      "/home/fxj5fe/Documents/MSDS/DS5100/booklover/__pycache__:\n",
      "total 12\n",
      "-rw------- 1 fxj5fe users 2088 Mar 29 22:33 booklover.cpython-311.pyc\n",
      "-rw------- 1 fxj5fe users  299 Mar 29 22:33 __init__.cpython-311.pyc\n"
     ]
    }
   ],
   "source": [
    "!ls -lR /home/fxj5fe/Documents/MSDS/DS5100/booklover"
   ]
  },
  {
   "cell_type": "markdown",
   "id": "6b6f288b-05aa-441b-8c73-84b50b3b6844",
   "metadata": {},
   "source": [
    "## Task 2\n",
    "\n",
    "(1 point)\n",
    "\n",
    "Put the URL of your GitHub repo here. Just paste it into a Markdown cell."
   ]
  },
  {
   "cell_type": "markdown",
   "id": "4d09d889-6104-4f20-b31c-2d8a72b17693",
   "metadata": {},
   "source": [
    "URL: https://github.com/david-hernandz/booklover"
   ]
  },
  {
   "cell_type": "markdown",
   "id": "f989dcd1-b1d2-4eb9-8ef6-8ca2d8495260",
   "metadata": {
    "lines_to_next_cell": 0
   },
   "source": [
    "## Task 3\n",
    "\n",
    "(1 point)\n",
    "\n",
    "Show the results of installing your package.\n",
    "\n",
    "```bash\n",
    "!pip install -e .\n",
    "```"
   ]
  },
  {
   "cell_type": "raw",
   "id": "8e55f2d2-c455-4bd8-8742-373d34f2147b",
   "metadata": {},
   "source": [
    "bash-4.4$pwd\n",
    "/home/fxj5fe/Documents/MSDS/DS5100\n",
    "bash-4.4$python book_lover_demo.py\n",
    "Setup Successful!\n",
    "Number of books read: 1\n",
    "bash-4.4$pwd\n",
    "/home/fxj5fe/Documents/MSDS/DS5100\n",
    "bash-4.4$pip install -e .\n",
    "Defaulting to user installation because normal site-packages is not writeable\n",
    "Obtaining file:///sfs/qumulo/qhome/fxj5fe/Documents/MSDS/DS5100\n",
    "  Preparing metadata (setup.py) ... done\n",
    "Installing collected packages: booklover\n",
    "  Attempting uninstall: booklover\n",
    "    Found existing installation: booklover 0.1\n",
    "    Uninstalling booklover-0.1:\n",
    "      Successfully uninstalled booklover-0.1\n",
    "  Running setup.py develop for booklover\n",
    "Successfully installed booklover-0.1\n",
    "bash-4.4$python book_lover_demo.py\n",
    "Setup Successful!\n",
    "Number of books read: 1\n",
    "bash-4.4$python\n",
    "Python 3.11.3 (main, Apr 19 2023, 23:54:32) [GCC 11.2.0] on linux\n",
    "Type \"help\", \"copyright\", \"credits\" or \"license\" for more information.\n",
    ">>> import booklover\n",
    "Setup Successful!"
   ]
  },
  {
   "cell_type": "markdown",
   "id": "5b1a642e-74f0-43ff-97a3-9ddc7553978e",
   "metadata": {},
   "source": [
    "## Task 4\n",
    "\n",
    "(1 point)\n",
    "\n",
    "Create a file outside your repo to test your package by running it.\n",
    "\n",
    "To do this, import the package into your file and create a BookLover object.\n",
    "\n",
    "Then add a book and then print number books read.\n",
    "\n",
    "Then run the file. \n",
    "\n",
    "Show the output of running the file below, using a command like the following:\n",
    "\n",
    "```bash\n",
    "!python ../book_lover_demo.py\n",
    "```"
   ]
  },
  {
   "cell_type": "raw",
   "id": "2a3fb9e4-2170-42b9-92a8-59ae028a1edd",
   "metadata": {},
   "source": [
    "Successfully installed booklover-0.1\n",
    "bash-4.4$python book_lover_demo.py\n",
    "Setup Successful!\n",
    "bash-4.4$cd /home/fxj5fe/Documents\n",
    "bash-4.4$python book_lover_demo.py\n",
    "python: can't open file '/sfs/qumulo/qhome/fxj5fe/Documents/book_lover_demo.py': [Errno 2] No such file or directory\n",
    "bash-4.4$pwd\n",
    "/home/fxj5fe/Documents\n",
    "bash-4.4$cd /home/fxj5fe/Documents/MSDS/DS5100\n",
    "bash-4.4$python book_lover_demo.py\n",
    "Setup Successful!\n",
    "1\n",
    "bash-4.4$pwd\n",
    "/home/fxj5fe/Documents/MSDS/DS5100\n",
    "bash-4.4$python book_lover_demo.py\n",
    "Setup Successful!\n",
    "Number of books read: 1\n",
    "bash-4.4$"
   ]
  },
  {
   "cell_type": "code",
   "execution_count": null,
   "id": "4bb816a6-bf93-4580-b2f5-d8d233135f32",
   "metadata": {},
   "outputs": [],
   "source": []
  }
 ],
 "metadata": {
  "jupytext": {
   "cell_metadata_filter": "-all",
   "main_language": "bash",
   "notebook_metadata_filter": "-all"
  },
  "kernelspec": {
   "display_name": "Python 3 (ipykernel)",
   "language": "python",
   "name": "python3"
  },
  "language_info": {
   "codemirror_mode": {
    "name": "ipython",
    "version": 3
   },
   "file_extension": ".py",
   "mimetype": "text/x-python",
   "name": "python",
   "nbconvert_exporter": "python",
   "pygments_lexer": "ipython3",
   "version": "3.11.4"
  },
  "vscode": {
   "interpreter": {
    "hash": "c3b963de08c47c3b6758389c5e0978ad73698a111eb508d4e16b558edb8f4cbf"
   }
  },
  "widgets": {
   "application/vnd.jupyter.widget-state+json": {
    "state": {},
    "version_major": 2,
    "version_minor": 0
   }
  }
 },
 "nbformat": 4,
 "nbformat_minor": 5
}
